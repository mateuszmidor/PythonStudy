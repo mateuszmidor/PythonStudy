{
 "cells": [
  {
   "cell_type": "markdown",
   "metadata": {},
   "source": [
    "## time in action"
   ]
  },
  {
   "cell_type": "code",
   "execution_count": null,
   "metadata": {},
   "outputs": [],
   "source": [
    "from time import time, sleep\n",
    "\n",
    "curr = time()\n",
    "sleep(2)\n",
    "\n",
    "print(time() - curr)"
   ]
  },
  {
   "cell_type": "markdown",
   "metadata": {},
   "source": [
    "## datetime in action"
   ]
  },
  {
   "cell_type": "code",
   "execution_count": null,
   "metadata": {},
   "outputs": [],
   "source": [
    "from datetime import datetime\n",
    "\n",
    "now = datetime.now()\n",
    "print('now: ', now)\n",
    "print('hour-minute-second: ', f\"{now.hour}-{now.minute}-{now.second}\")\n",
    "print('HH:MM:SS: ', now.strftime(\"%H:%M:%S\"))\n",
    "print('day-month-year: ', f\"{now.day}-{now.month}-{now.year}\")\n",
    "print('DD.MM.YYYY: ', now.strftime(\"%d.%m.%Y\"))"
   ]
  },
  {
   "cell_type": "markdown",
   "metadata": {},
   "source": [
    "## Lists in action"
   ]
  },
  {
   "cell_type": "code",
   "execution_count": null,
   "metadata": {},
   "outputs": [],
   "source": [
    "l = ['caribbean', 'maldives', 'canaries', 'bornholm']\n",
    "print('original: ', l)\n",
    "print('reversed: ', list(reversed(l)))\n",
    "print('sorted: ', sorted(l))\n",
    "print('enumerated: ', end=\"\")\n",
    "for k, v in enumerate(l):\n",
    "    print(f\"{k} - {v}, \", end=\"\")"
   ]
  },
  {
   "cell_type": "code",
   "execution_count": null,
   "metadata": {},
   "outputs": [],
   "source": []
  },
  {
   "cell_type": "markdown",
   "metadata": {},
   "source": [
    "## List comprehension"
   ]
  },
  {
   "cell_type": "code",
   "execution_count": null,
   "metadata": {},
   "outputs": [],
   "source": [
    "l = ['caribbean', 'maldives', 'canaries', 'bornholm']\n",
    "tuples = [(k,v) for k,v in enumerate(l)]\n",
    "print('list comprehension result:', tuples)"
   ]
  },
  {
   "cell_type": "markdown",
   "metadata": {},
   "source": [
    "## sets"
   ]
  },
  {
   "cell_type": "code",
   "execution_count": null,
   "metadata": {},
   "outputs": [],
   "source": [
    "tools = {'drill', 'axe', 'screwdriver'}\n",
    "tools.add('axe')\n",
    "print(type(tools), tools)"
   ]
  },
  {
   "cell_type": "markdown",
   "metadata": {},
   "source": [
    "## matplot in action"
   ]
  },
  {
   "cell_type": "code",
   "execution_count": null,
   "metadata": {},
   "outputs": [],
   "source": [
    "# needed first: pip install matplotlib\n",
    "import matplotlib.pyplot as plt\n",
    "import math\n",
    "\n",
    "x = range(0, int(2* math.pi * 100), 1) # 0..2*PI\n",
    "y = [math.sin(x/100) for x in x]\n",
    "plt.plot(x,y)\n",
    "plt.show()"
   ]
  },
  {
   "cell_type": "markdown",
   "metadata": {},
   "source": [
    "## files "
   ]
  },
  {
   "cell_type": "code",
   "execution_count": null,
   "metadata": {},
   "outputs": [],
   "source": [
    "with open(\"/proc/cpuinfo\", \"r\") as f:\n",
    "    lines = f.readlines()\n",
    "    print(\"\".join(lines))"
   ]
  },
  {
   "cell_type": "markdown",
   "metadata": {},
   "source": [
    "## os"
   ]
  },
  {
   "cell_type": "code",
   "execution_count": null,
   "metadata": {},
   "outputs": [],
   "source": [
    "import os\n",
    "\n",
    "dir_entries = os.listdir(\"/boot\")\n",
    "print(\"All under /boot:\")\n",
    "print(\"\\n\".join(dir_entries))\n",
    "\n",
    "# check if path points to file\n",
    "# file = os.path.isfile(\"/home/user/.bashrc\")\n",
    "\n",
    "# check if path points to dir\n",
    "# dir = os.path.isdir(\"/home/user/.bashrc\")\n",
    "\n",
    "# other operations:\n",
    "#  os.mkdir(\"/tmp/test\")\n",
    "#  os.rename(\"/tmp/test\", \"/tmp/experiment\")\n",
    "#  os.rmdir(\"/tmp/experiment\")"
   ]
  },
  {
   "cell_type": "markdown",
   "metadata": {},
   "source": [
    "## magic methods"
   ]
  },
  {
   "cell_type": "code",
   "execution_count": null,
   "metadata": {},
   "outputs": [],
   "source": [
    "class Demo(object):\n",
    "    def __init__(self):\n",
    "        print(\"create\")\n",
    "    def __str__(self):\n",
    "        return \"Demo object\"\n",
    "    def __int__(self):\n",
    "        return 33\n",
    "    def __bool__(self):\n",
    "        return True\n",
    "    def __del__(self):\n",
    "        print(\"destroy\")\n",
    "\n",
    "d = Demo()\n",
    "print(d)\n",
    "print(int(d))\n",
    "print(bool(d))\n",
    "del d"
   ]
  },
  {
   "cell_type": "markdown",
   "metadata": {},
   "source": [
    "## inheritance"
   ]
  },
  {
   "cell_type": "code",
   "execution_count": null,
   "metadata": {},
   "outputs": [],
   "source": [
    "def override(f):\n",
    "    \"\"\" just a marker decorator \"\"\"\n",
    "    return f\n",
    "\n",
    "class Speaker(object):\n",
    "    def __init__(self):\n",
    "        pass\n",
    "    \n",
    "    def hello(self):\n",
    "        print(\"hello\")\n",
    "        \n",
    "    def small_talk(self):\n",
    "        print(\"this morning was cold, wasn't it?\")\n",
    "        \n",
    "    def bye(self):\n",
    "        print(\"goodbye\")\n",
    "        \n",
    "class LouderSpeaker(Speaker):\n",
    "    @override\n",
    "    def __init__(self):\n",
    "        super(LouderSpeaker, self).__init__()\n",
    "        \n",
    "    @override\n",
    "    def hello(self):\n",
    "        print(\"HELLO\")\n",
    "        \n",
    "    @override\n",
    "    def bye(self):\n",
    "        print(\"GODBYE\")  \n",
    "        \n",
    " \n",
    "\n",
    "l = LouderSpeaker()\n",
    "l.hello()\n",
    "l.small_talk()\n",
    "l.bye()"
   ]
  },
  {
   "cell_type": "markdown",
   "metadata": {},
   "source": [
    "## decorators"
   ]
  },
  {
   "cell_type": "code",
   "execution_count": null,
   "metadata": {},
   "outputs": [],
   "source": [
    "def red(f):\n",
    "    def wrapper(*args, **kwargs):\n",
    "        print('\\033[31m')\n",
    "        return f(*args, **kwargs)\n",
    "    return wrapper\n",
    " \n",
    "def blue(f):\n",
    "    def wrapper(*args, **kwargs):\n",
    "        print('\\033[34m')\n",
    "        return f(*args, **kwargs)\n",
    "    return wrapper\n",
    "\n",
    "class Speaker(object):\n",
    "    @red\n",
    "    def hello(self):\n",
    "        print(\"hello\")\n",
    "        \n",
    "    @blue\n",
    "    def bye(self):\n",
    "        print(\"goodbye\")\n",
    "\n",
    "s = Speaker()\n",
    "s.hello()\n",
    "s.bye()"
   ]
  },
  {
   "cell_type": "markdown",
   "metadata": {},
   "source": [
    "## @property"
   ]
  },
  {
   "cell_type": "code",
   "execution_count": null,
   "metadata": {},
   "outputs": [],
   "source": [
    "class Person(object):\n",
    "    def __init__(self, fname, lname, age):\n",
    "        self.fname = fname\n",
    "        self.lname = lname\n",
    "        self.years = age\n",
    "    \n",
    "    # readonly property\n",
    "    @property\n",
    "    def email(self):\n",
    "        return f\"{self.fname}.{self.lname}.{self.age}@email.com\"\n",
    "    \n",
    "    \n",
    "    \n",
    "    # read-write property (has setter)\n",
    "    @property\n",
    "    def age(self):\n",
    "        return self.years\n",
    "    \n",
    "    @age.setter\n",
    "    def age(self, years):\n",
    "        self.years = years\n",
    "    \n",
    "    \n",
    "p = Person(\"Ace\", \"Ventura\", 27)\n",
    "print(p.email)\n",
    "\n",
    "p.fname = \"Andrzej\"\n",
    "print(p.email)\n",
    "\n",
    "p.age = 33\n",
    "print(p.email)"
   ]
  },
  {
   "cell_type": "markdown",
   "metadata": {},
   "source": [
    "## generators"
   ]
  },
  {
   "cell_type": "code",
   "execution_count": null,
   "metadata": {},
   "outputs": [],
   "source": [
    "def float_range(start, stop, step):\n",
    "    curr = start\n",
    "    while curr < stop:\n",
    "        yield curr\n",
    "        curr += step\n",
    "        \n",
    "for x in float_range(0, 3.1415, 0.1):\n",
    "    print(\"{:0.2f}, \".format(x), end='')"
   ]
  },
  {
   "cell_type": "markdown",
   "metadata": {},
   "source": [
    "## requests"
   ]
  },
  {
   "cell_type": "code",
   "execution_count": null,
   "metadata": {},
   "outputs": [],
   "source": [
    "import requests\n",
    "\n",
    "last_usd_price_url = \"http://api.nbp.pl/api/exchangerates/rates/A/USD/last/1\" # table 'A' = average price\n",
    "headers = {'Accept': 'application/json'} # also available: xml\n",
    "response = requests.get(last_usd_price_url, headers=headers)\n",
    "\n",
    "print(response.text)"
   ]
  },
  {
   "cell_type": "markdown",
   "metadata": {},
   "source": [
    "## @dataclass()"
   ]
  },
  {
   "cell_type": "code",
   "execution_count": 1,
   "metadata": {},
   "outputs": [
    {
     "name": "stdout",
     "output_type": "stream",
     "text": [
      "{'age': 22, 'name': 'Andrzej'}\n"
     ]
    }
   ],
   "source": [
    "from dataclasses import dataclass\n",
    "from typing import Optional\n",
    "\n",
    "\n",
    "@dataclass()\n",
    "class Person:\n",
    "    age : int\n",
    "    name : str\n",
    "    email : Optional[str] = None\n",
    "        \n",
    "def as_dict_omit_empty(obj):\n",
    "    d = dict()\n",
    "    for k, v in obj.__dict__.items():\n",
    "        if v is not None:\n",
    "            d[k] = v\n",
    "    return d\n",
    "\n",
    "p = Person(22, \"Andrzej\")\n",
    "print(as_dict_omit_empty(p))"
   ]
  },
  {
   "cell_type": "markdown",
   "metadata": {},
   "source": [
    "## remove empty keys"
   ]
  },
  {
   "cell_type": "code",
   "execution_count": 26,
   "metadata": {},
   "outputs": [
    {
     "name": "stdout",
     "output_type": "stream",
     "text": [
      "False\n",
      "True\n"
     ]
    }
   ],
   "source": [
    "import inspect\n",
    "from dataclasses import dataclass\n",
    "\n",
    "d = {'a' : 5}\n",
    "print(hasattr(d, \"__dict__\"))\n",
    "\n",
    "@dataclass\n",
    "class C:\n",
    "    i : int\n",
    "        \n",
    "c = C(6)\n",
    "print(hasattr(c, \"__dict__\"))"
   ]
  },
  {
   "cell_type": "code",
   "execution_count": 1,
   "metadata": {},
   "outputs": [
    {
     "name": "stdout",
     "output_type": "stream",
     "text": [
      "{'site': {'name': '', 'lon': 5, 'lat': 11}, 'people': {'Andrzej': 33, 'Mateusz': 4, 'Ola': 22}}\n"
     ]
    }
   ],
   "source": [
    "from dataclasses import dataclass\n",
    "from typing import Dict, Any\n",
    "\n",
    "@dataclass\n",
    "class Site:\n",
    "    @dataclass\n",
    "    class _Site:\n",
    "        id: int\n",
    "        name: str\n",
    "        lon: float\n",
    "        lat: float\n",
    "    site: _Site\n",
    "    people : dict\n",
    "        \n",
    "def hasdict(o) -> bool:\n",
    "    return hasattr(o, \"__dict__\")\n",
    "\n",
    "def remove_keys_with_empty_values(d) -> Dict[str, Any]:\n",
    "    result = dict()\n",
    "    if hasdict(d):\n",
    "        d = d.__dict__\n",
    "        \n",
    "    for k, v in d.items():\n",
    "        if v is None:\n",
    "            continue\n",
    "        if hasdict(v) or isinstance(v, dict):\n",
    "            result[k] = remove_keys_with_empty_values(v)\n",
    "        else:\n",
    "            result[k] = v\n",
    "    return result\n",
    "\n",
    "\n",
    "payload = Site(Site._Site(None, \"\", 5, 11), {\"Andrzej\" : 33, \"Mateusz\" : 4, \"Ola\" : 22})\n",
    "payload = remove_keys_with_empty_values(payload)\n",
    "print(payload)"
   ]
  },
  {
   "cell_type": "markdown",
   "metadata": {},
   "source": [
    "## from **kwargs"
   ]
  },
  {
   "cell_type": "code",
   "execution_count": 2,
   "metadata": {},
   "outputs": [
    {
     "name": "stdout",
     "output_type": "stream",
     "text": [
      "43 mate\n"
     ]
    }
   ],
   "source": [
    "def init(a : int, b : str):\n",
    "    print(a, b)\n",
    "    \n",
    "\n",
    "def setup(**kwargs):\n",
    "    init(**kwargs)\n",
    "    \n",
    "setup(a=43, b=\"mate\")"
   ]
  },
  {
   "cell_type": "markdown",
   "metadata": {},
   "source": [
    "## Enum"
   ]
  },
  {
   "cell_type": "code",
   "execution_count": 3,
   "metadata": {},
   "outputs": [
    {
     "name": "stdout",
     "output_type": "stream",
     "text": [
      "Direction.SRC\n",
      "<class 'str'>\n",
      "{'SRC': <Direction.SRC: 'SRC'>, 'DST': <Direction.DST: 'DST'>, 'EITHER': <Direction.EITHER: 'EITHER'>}\n"
     ]
    }
   ],
   "source": [
    "from enum import Enum\n",
    "class Direction(Enum):\n",
    "    SRC = \"SRC\"\n",
    "    DST = \"DST\"\n",
    "    EITHER = \"EITHER\"\n",
    "          \n",
    "e = Direction('SRC')   \n",
    "print(e)\n",
    "print(type(e.value))\n",
    "\n",
    "print (Direction._value2member_map_)"
   ]
  },
  {
   "cell_type": "markdown",
   "metadata": {},
   "source": [
    "## MIME parsing"
   ]
  },
  {
   "cell_type": "code",
   "execution_count": 26,
   "metadata": {},
   "outputs": [
    {
     "name": "stdout",
     "output_type": "stream",
     "text": [
      "('image/png', 'base64', 'iVBORw0KGgoAAAA...')\n"
     ]
    }
   ],
   "source": [
    "from typing import Tuple\n",
    "def _parse_uri(uri_str: str) -> Tuple[str, str, str]:\n",
    "    # input: \"data:image/png;base64,iVBORw0KGgoAAAA...\"\n",
    "    uri = uri_str\n",
    "    data_type, uri = _cut_head(uri, \":\")\n",
    "    mime_type, uri = _cut_head(uri, \";\")\n",
    "    encoding_type, uri = _cut_head(uri, \",\")\n",
    "    payload = uri\n",
    "    if data_type != \"data\" or mime_type == \"\" or encoding_type == \"\" or payload == \"\":\n",
    "        raise ValueError(f\"Invalid URI: {uri_str[:50]}\")\n",
    "    return (mime_type, encoding_type, payload)\n",
    "\n",
    "\n",
    "def _cut_head(string: str, until: str) -> Tuple[str, str]:\n",
    "    pos = string.find(until)\n",
    "    if pos == -1:\n",
    "        return (\"\", string)\n",
    "    return (string[:pos], string[pos + 1 :])\n",
    "\n",
    "uri = \"data:image/png;base64,iVBORw0KGgoAAAA...\"\n",
    "print(_parse_uri(uri))\n"
   ]
  },
  {
   "cell_type": "code",
   "execution_count": 2,
   "metadata": {},
   "outputs": [
    {
     "name": "stdout",
     "output_type": "stream",
     "text": [
      "\"https://portal.kentik.com/portal/#Charts/shortUrl/e0d24b3cc8dfe41f9093668e531cbe96\"\n",
      "https://portal.kentik.com/portal/#Charts/shortUrl/e0d24b3cc8dfe41f9093668e531cbe96\n"
     ]
    }
   ],
   "source": [
    "url = '\"https://portal.kentik.com/portal/#Charts/shortUrl/e0d24b3cc8dfe41f9093668e531cbe96\"'\n",
    "print(url)\n",
    "print(url[1:-1])"
   ]
  },
  {
   "cell_type": "markdown",
   "metadata": {},
   "source": [
    "## Input in action"
   ]
  },
  {
   "cell_type": "code",
   "execution_count": null,
   "metadata": {},
   "outputs": [],
   "source": [
    "x = input('Say something: ')\n",
    "print('You inputted: ',x )"
   ]
  },
  {
   "cell_type": "code",
   "execution_count": null,
   "metadata": {},
   "outputs": [],
   "source": []
  }
 ],
 "metadata": {
  "kernelspec": {
   "display_name": "Python 3",
   "language": "python",
   "name": "python3"
  },
  "language_info": {
   "codemirror_mode": {
    "name": "ipython",
    "version": 3
   },
   "file_extension": ".py",
   "mimetype": "text/x-python",
   "name": "python",
   "nbconvert_exporter": "python",
   "pygments_lexer": "ipython3",
   "version": "3.8.6"
  }
 },
 "nbformat": 4,
 "nbformat_minor": 4
}

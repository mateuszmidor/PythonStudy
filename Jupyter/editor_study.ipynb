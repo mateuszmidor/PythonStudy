{
 "cells": [
  {
   "cell_type": "markdown",
   "metadata": {},
   "source": [
    "## time in action"
   ]
  },
  {
   "cell_type": "code",
   "execution_count": null,
   "metadata": {},
   "outputs": [],
   "source": [
    "from time import time, sleep\n",
    "\n",
    "curr = time()\n",
    "sleep(2)\n",
    "\n",
    "print(time() - curr)"
   ]
  },
  {
   "cell_type": "markdown",
   "metadata": {},
   "source": [
    "## datetime in action"
   ]
  },
  {
   "cell_type": "code",
   "execution_count": null,
   "metadata": {},
   "outputs": [],
   "source": [
    "from datetime import datetime\n",
    "\n",
    "now = datetime.now()\n",
    "print('now: ', now)\n",
    "print('hour-minute-second: ', f\"{now.hour}-{now.minute}-{now.second}\")\n",
    "print('HH:MM:SS: ', now.strftime(\"%H:%M:%S\"))\n",
    "print('day-month-year: ', f\"{now.day}-{now.month}-{now.year}\")\n",
    "print('DD.MM.YYYY: ', now.strftime(\"%d.%m.%Y\"))"
   ]
  },
  {
   "cell_type": "markdown",
   "metadata": {},
   "source": [
    "## Lists in action"
   ]
  },
  {
   "cell_type": "code",
   "execution_count": null,
   "metadata": {},
   "outputs": [],
   "source": [
    "l = ['caribbean', 'maldives', 'canaries', 'bornholm']\n",
    "print('original: ', l)\n",
    "print('reversed: ', list(reversed(l)))\n",
    "print('sorted: ', sorted(l))\n",
    "print('enumerated: ', end=\"\")\n",
    "for k, v in enumerate(l):\n",
    "    print(f\"{k} - {v}, \", end=\"\")"
   ]
  },
  {
   "cell_type": "code",
   "execution_count": null,
   "metadata": {},
   "outputs": [],
   "source": []
  },
  {
   "cell_type": "markdown",
   "metadata": {},
   "source": [
    "## List comprehension"
   ]
  },
  {
   "cell_type": "code",
   "execution_count": null,
   "metadata": {},
   "outputs": [],
   "source": [
    "tuples = [(k,v) for k,v in enumerate(l)]\n",
    "print('list comprehension result:', tuples)"
   ]
  },
  {
   "cell_type": "markdown",
   "metadata": {},
   "source": [
    "## sets"
   ]
  },
  {
   "cell_type": "code",
   "execution_count": null,
   "metadata": {},
   "outputs": [],
   "source": [
    "tools = {'drill', 'axe', 'screwdriver'}\n",
    "tools.add('axe')\n",
    "print(type(tools), tools)"
   ]
  },
  {
   "cell_type": "markdown",
   "metadata": {},
   "source": [
    "## matplot in action"
   ]
  },
  {
   "cell_type": "code",
   "execution_count": null,
   "metadata": {},
   "outputs": [],
   "source": [
    "# needed first: pip install matplotlib\n",
    "import matplotlib.pyplot as plt\n",
    "import math\n",
    "\n",
    "x = range(0, int(2* math.pi * 100), 1) # 0..2*PI\n",
    "y = [math.sin(x/100) for x in x]\n",
    "plt.plot(x,y)\n",
    "plt.show()"
   ]
  },
  {
   "cell_type": "markdown",
   "metadata": {},
   "source": [
    "## files "
   ]
  },
  {
   "cell_type": "code",
   "execution_count": null,
   "metadata": {},
   "outputs": [],
   "source": [
    "with open(\"/proc/cpuinfo\", \"r\") as f:\n",
    "    lines = f.readlines()\n",
    "    print(\"\".join(lines))"
   ]
  },
  {
   "cell_type": "markdown",
   "metadata": {},
   "source": [
    "## os"
   ]
  },
  {
   "cell_type": "code",
   "execution_count": null,
   "metadata": {},
   "outputs": [],
   "source": [
    "import os\n",
    "\n",
    "dir_entries = os.listdir(\"/boot\")\n",
    "print(\"All under /boot:\")\n",
    "print(\"\\n\".join(dir_entries))\n",
    "\n",
    "# check if path points to file\n",
    "# file = os.path.isfile(\"/home/user/.bashrc\")\n",
    "\n",
    "# check if path points to dir\n",
    "# dir = os.path.isdir(\"/home/user/.bashrc\")\n",
    "\n",
    "# other operations:\n",
    "#  os.mkdir(\"/tmp/test\")\n",
    "#  os.rename(\"/tmp/test\", \"/tmp/experiment\")\n",
    "#  os.rmdir(\"/tmp/experiment\")"
   ]
  },
  {
   "cell_type": "markdown",
   "metadata": {},
   "source": [
    "## magic methods"
   ]
  },
  {
   "cell_type": "code",
   "execution_count": null,
   "metadata": {},
   "outputs": [],
   "source": [
    "class Demo(object):\n",
    "    def __init__(self):\n",
    "        print(\"create\")\n",
    "    def __str__(self):\n",
    "        return \"Demo object\"\n",
    "    def __int__(self):\n",
    "        return 33\n",
    "    def __bool__(self):\n",
    "        return True\n",
    "    def __del__(self):\n",
    "        print(\"destroy\")\n",
    "\n",
    "d = Demo()\n",
    "print(d)\n",
    "print(int(d))\n",
    "print(bool(d))\n",
    "del d"
   ]
  },
  {
   "cell_type": "markdown",
   "metadata": {},
   "source": [
    "## inheritance"
   ]
  },
  {
   "cell_type": "code",
   "execution_count": null,
   "metadata": {},
   "outputs": [],
   "source": [
    "def override(f):\n",
    "    \"\"\" just a marker decorator \"\"\"\n",
    "    return f\n",
    "\n",
    "class Speaker(object):\n",
    "    def __init__(self):\n",
    "        pass\n",
    "    \n",
    "    def hello(self):\n",
    "        print(\"hello\")\n",
    "        \n",
    "    def small_talk(self):\n",
    "        print(\"this morning was cold, wasn't it?\")\n",
    "        \n",
    "    def bye(self):\n",
    "        print(\"goodbye\")\n",
    "        \n",
    "class LouderSpeaker(Speaker):\n",
    "    @override\n",
    "    def __init__(self):\n",
    "        super(LouderSpeaker, self).__init__()\n",
    "        \n",
    "    @override\n",
    "    def hello(self):\n",
    "        print(\"HELLO\")\n",
    "        \n",
    "    @override\n",
    "    def bye(self):\n",
    "        print(\"GODBYE\")  \n",
    "        \n",
    " \n",
    "\n",
    "l = LouderSpeaker()\n",
    "l.hello()\n",
    "l.small_talk()\n",
    "l.bye()"
   ]
  },
  {
   "cell_type": "markdown",
   "metadata": {},
   "source": [
    "## decorators"
   ]
  },
  {
   "cell_type": "code",
   "execution_count": null,
   "metadata": {},
   "outputs": [],
   "source": [
    "def red(f):\n",
    "    def wrapper(*args, **kwargs):\n",
    "        print('\\033[31m')\n",
    "        return f(*args, **kwargs)\n",
    "    return wrapper\n",
    " \n",
    "def blue(f):\n",
    "    def wrapper(*args, **kwargs):\n",
    "        print('\\033[34m')\n",
    "        return f(*args, **kwargs)\n",
    "    return wrapper\n",
    "\n",
    "class Speaker(object):\n",
    "    @red\n",
    "    def hello(self):\n",
    "        print(\"hello\")\n",
    "        \n",
    "    @blue\n",
    "    def bye(self):\n",
    "        print(\"goodbye\")\n",
    "\n",
    "s = Speaker()\n",
    "s.hello()\n",
    "s.bye()"
   ]
  },
  {
   "cell_type": "markdown",
   "metadata": {},
   "source": [
    "## generators"
   ]
  },
  {
   "cell_type": "code",
   "execution_count": null,
   "metadata": {},
   "outputs": [],
   "source": [
    "def float_range(start, stop, step):\n",
    "    curr = start\n",
    "    while curr < stop:\n",
    "        yield curr\n",
    "        curr += step\n",
    "        \n",
    "for x in float_range(0, 3.1415, 0.1):\n",
    "    print(\"{:0.2f}, \".format(x), end='')"
   ]
  },
  {
   "cell_type": "markdown",
   "metadata": {},
   "source": [
    "## requests"
   ]
  },
  {
   "cell_type": "code",
   "execution_count": 29,
   "metadata": {},
   "outputs": [
    {
     "name": "stdout",
     "output_type": "stream",
     "text": [
      "{\"table\":\"A\",\"currency\":\"dolar amerykański\",\"code\":\"USD\",\"rates\":[{\"no\":\"232/A/NBP/2020\",\"effectiveDate\":\"2020-11-27\",\"mid\":3.7614}]}\n"
     ]
    }
   ],
   "source": [
    "import requests\n",
    "\n",
    "last_usd_price_url = \"http://api.nbp.pl/api/exchangerates/rates/A/USD/last/1\" # table 'A' = average price\n",
    "headers = {'Accept': 'application/json'} # also available: xml\n",
    "response = requests.get(last_usd_price_url, headers=headers)\n",
    "\n",
    "print(response.text)"
   ]
  },
  {
   "cell_type": "markdown",
   "metadata": {},
   "source": [
    "## Input in action"
   ]
  },
  {
   "cell_type": "code",
   "execution_count": null,
   "metadata": {},
   "outputs": [],
   "source": [
    "x = input('Say something: ')\n",
    "print('You inputted: ',x )"
   ]
  },
  {
   "cell_type": "code",
   "execution_count": null,
   "metadata": {},
   "outputs": [],
   "source": []
  }
 ],
 "metadata": {
  "kernelspec": {
   "display_name": "Python 3",
   "language": "python",
   "name": "python3"
  },
  "language_info": {
   "codemirror_mode": {
    "name": "ipython",
    "version": 3
   },
   "file_extension": ".py",
   "mimetype": "text/x-python",
   "name": "python",
   "nbconvert_exporter": "python",
   "pygments_lexer": "ipython3",
   "version": "3.8.6"
  }
 },
 "nbformat": 4,
 "nbformat_minor": 4
}

{
 "cells": [
  {
   "cell_type": "markdown",
   "metadata": {},
   "source": [
    "## time in action"
   ]
  },
  {
   "cell_type": "code",
   "execution_count": 27,
   "metadata": {},
   "outputs": [
    {
     "name": "stdout",
     "output_type": "stream",
     "text": [
      "2.0026822090148926\n"
     ]
    }
   ],
   "source": [
    "from time import time, sleep\n",
    "\n",
    "curr = time()\n",
    "sleep(2)\n",
    "\n",
    "print(time() - curr)"
   ]
  },
  {
   "cell_type": "markdown",
   "metadata": {},
   "source": [
    "## datetime in action"
   ]
  },
  {
   "cell_type": "code",
   "execution_count": 43,
   "metadata": {},
   "outputs": [
    {
     "name": "stdout",
     "output_type": "stream",
     "text": [
      "now:  2020-11-29 10:49:26.205679\n",
      "hour-minute-second:  10-49-26\n",
      "HH:MM:SS:  10:49:26\n",
      "day-month-year:  29-11-2020\n",
      "DD.MM.YYYY:  29.11.2020\n"
     ]
    }
   ],
   "source": [
    "from datetime import datetime\n",
    "\n",
    "now = datetime.now()\n",
    "print('now: ', now)\n",
    "print('hour-minute-second: ', f\"{now.hour}-{now.minute}-{now.second}\")\n",
    "print('HH:MM:SS: ', now.strftime(\"%H:%M:%S\"))\n",
    "print('day-month-year: ', f\"{now.day}-{now.month}-{now.year}\")\n",
    "print('DD.MM.YYYY: ', now.strftime(\"%d.%m.%Y\"))"
   ]
  },
  {
   "cell_type": "markdown",
   "metadata": {},
   "source": [
    "## Lists in action"
   ]
  },
  {
   "cell_type": "code",
   "execution_count": 16,
   "metadata": {},
   "outputs": [
    {
     "name": "stdout",
     "output_type": "stream",
     "text": [
      "original:  ['caribbean', 'maldives', 'canaries', 'bornholm']\n",
      "reversed:  ['bornholm', 'canaries', 'maldives', 'caribbean']\n",
      "sorted:  ['bornholm', 'canaries', 'caribbean', 'maldives']\n",
      "enumerated: 0 - caribbean, 1 - maldives, 2 - canaries, 3 - bornholm, "
     ]
    }
   ],
   "source": [
    "l = ['caribbean', 'maldives', 'canaries', 'bornholm']\n",
    "print('original: ', l)\n",
    "print('reversed: ', list(reversed(l)))\n",
    "print('sorted: ', sorted(l))\n",
    "print('enumerated: ', end=\"\")\n",
    "for k, v in enumerate(l):\n",
    "    print(f\"{k} - {v}, \", end=\"\")"
   ]
  },
  {
   "cell_type": "code",
   "execution_count": null,
   "metadata": {},
   "outputs": [],
   "source": []
  },
  {
   "cell_type": "markdown",
   "metadata": {},
   "source": [
    "## List comprehension"
   ]
  },
  {
   "cell_type": "code",
   "execution_count": 17,
   "metadata": {},
   "outputs": [
    {
     "name": "stdout",
     "output_type": "stream",
     "text": [
      "list comprehension result: [(0, 'caribbean'), (1, 'maldives'), (2, 'canaries'), (3, 'bornholm')]\n"
     ]
    }
   ],
   "source": [
    "tuples = [(k,v) for k,v in enumerate(l)]\n",
    "print('list comprehension result:', tuples)"
   ]
  },
  {
   "cell_type": "markdown",
   "metadata": {},
   "source": [
    "## matplot in action"
   ]
  },
  {
   "cell_type": "code",
   "execution_count": 44,
   "metadata": {},
   "outputs": [
    {
     "data": {
      "image/png": "[encoded data removed]",
      "text/plain": [
       "<Figure size 432x288 with 1 Axes>"
      ]
     },
     "metadata": {
      "needs_background": "light"
     },
     "output_type": "display_data"
    }
   ],
   "source": [
    "# needed first: pip install matplotlib\n",
    "import matplotlib.pyplot as plt\n",
    "import math\n",
    "\n",
    "x = range(0, int(2* math.pi * 100), 1) # 0..2*PI\n",
    "y = [math.sin(x/100) for x in x]\n",
    "plt.plot(x,y)\n",
    "plt.show()"
   ]
  },
  {
   "cell_type": "markdown",
   "metadata": {},
   "source": [
    "## files "
   ]
  },
  {
   "cell_type": "code",
   "execution_count": 30,
   "metadata": {},
   "outputs": [
    {
     "name": "stdout",
     "output_type": "stream",
     "text": [
      "processor\t: 0\n",
      "vendor_id\t: GenuineIntel\n",
      "cpu family\t: 6\n",
      "model\t\t: 142\n",
      "model name\t: Intel(R) Core(TM) i7-8550U CPU @ 1.80GHz\n",
      "stepping\t: 10\n",
      "microcode\t: 0xe0\n",
      "cpu MHz\t\t: 2776.186\n",
      "cache size\t: 8192 KB\n",
      "physical id\t: 0\n",
      "siblings\t: 8\n",
      "core id\t\t: 0\n",
      "cpu cores\t: 4\n",
      "apicid\t\t: 0\n",
      "initial apicid\t: 0\n",
      "fpu\t\t: yes\n",
      "fpu_exception\t: yes\n",
      "cpuid level\t: 22\n",
      "wp\t\t: yes\n",
      "flags\t\t: fpu vme de pse tsc msr pae mce cx8 apic sep mtrr pge mca cmov pat pse36 clflush dts acpi mmx fxsr sse sse2 ss ht tm pbe syscall nx pdpe1gb rdtscp lm constant_tsc art arch_perfmon pebs bts rep_good nopl xtopology nonstop_tsc cpuid aperfmperf pni pclmulqdq dtes64 monitor ds_cpl vmx est tm2 ssse3 sdbg fma cx16 xtpr pdcm pcid sse4_1 sse4_2 x2apic movbe popcnt tsc_deadline_timer aes xsave avx f16c rdrand lahf_lm abm 3dnowprefetch cpuid_fault epb invpcid_single pti ssbd ibrs ibpb stibp tpr_shadow vnmi flexpriority ept vpid ept_ad fsgsbase tsc_adjust bmi1 avx2 smep bmi2 erms invpcid mpx rdseed adx smap clflushopt intel_pt xsaveopt xsavec xgetbv1 xsaves dtherm ida arat pln pts hwp hwp_notify hwp_act_window hwp_epp md_clear flush_l1d\n",
      "vmx flags\t: vnmi preemption_timer invvpid ept_x_only ept_ad ept_1gb flexpriority tsc_offset vtpr mtf vapic ept vpid unrestricted_guest ple pml ept_mode_based_exec\n",
      "bugs\t\t: cpu_meltdown spectre_v1 spectre_v2 spec_store_bypass l1tf mds swapgs itlb_multihit srbds\n",
      "bogomips\t: 3999.93\n",
      "clflush size\t: 64\n",
      "cache_alignment\t: 64\n",
      "address sizes\t: 39 bits physical, 48 bits virtual\n",
      "power management:\n",
      "\n",
      "processor\t: 1\n",
      "vendor_id\t: GenuineIntel\n",
      "cpu family\t: 6\n",
      "model\t\t: 142\n",
      "model name\t: Intel(R) Core(TM) i7-8550U CPU @ 1.80GHz\n",
      "stepping\t: 10\n",
      "microcode\t: 0xe0\n",
      "cpu MHz\t\t: 2774.448\n",
      "cache size\t: 8192 KB\n",
      "physical id\t: 0\n",
      "siblings\t: 8\n",
      "core id\t\t: 1\n",
      "cpu cores\t: 4\n",
      "apicid\t\t: 2\n",
      "initial apicid\t: 2\n",
      "fpu\t\t: yes\n",
      "fpu_exception\t: yes\n",
      "cpuid level\t: 22\n",
      "wp\t\t: yes\n",
      "flags\t\t: fpu vme de pse tsc msr pae mce cx8 apic sep mtrr pge mca cmov pat pse36 clflush dts acpi mmx fxsr sse sse2 ss ht tm pbe syscall nx pdpe1gb rdtscp lm constant_tsc art arch_perfmon pebs bts rep_good nopl xtopology nonstop_tsc cpuid aperfmperf pni pclmulqdq dtes64 monitor ds_cpl vmx est tm2 ssse3 sdbg fma cx16 xtpr pdcm pcid sse4_1 sse4_2 x2apic movbe popcnt tsc_deadline_timer aes xsave avx f16c rdrand lahf_lm abm 3dnowprefetch cpuid_fault epb invpcid_single pti ssbd ibrs ibpb stibp tpr_shadow vnmi flexpriority ept vpid ept_ad fsgsbase tsc_adjust bmi1 avx2 smep bmi2 erms invpcid mpx rdseed adx smap clflushopt intel_pt xsaveopt xsavec xgetbv1 xsaves dtherm ida arat pln pts hwp hwp_notify hwp_act_window hwp_epp md_clear flush_l1d\n",
      "vmx flags\t: vnmi preemption_timer invvpid ept_x_only ept_ad ept_1gb flexpriority tsc_offset vtpr mtf vapic ept vpid unrestricted_guest ple pml ept_mode_based_exec\n",
      "bugs\t\t: cpu_meltdown spectre_v1 spectre_v2 spec_store_bypass l1tf mds swapgs itlb_multihit srbds\n",
      "bogomips\t: 3999.93\n",
      "clflush size\t: 64\n",
      "cache_alignment\t: 64\n",
      "address sizes\t: 39 bits physical, 48 bits virtual\n",
      "power management:\n",
      "\n",
      "processor\t: 2\n",
      "vendor_id\t: GenuineIntel\n",
      "cpu family\t: 6\n",
      "model\t\t: 142\n",
      "model name\t: Intel(R) Core(TM) i7-8550U CPU @ 1.80GHz\n",
      "stepping\t: 10\n",
      "microcode\t: 0xe0\n",
      "cpu MHz\t\t: 2639.047\n",
      "cache size\t: 8192 KB\n",
      "physical id\t: 0\n",
      "siblings\t: 8\n",
      "core id\t\t: 2\n",
      "cpu cores\t: 4\n",
      "apicid\t\t: 4\n",
      "initial apicid\t: 4\n",
      "fpu\t\t: yes\n",
      "fpu_exception\t: yes\n",
      "cpuid level\t: 22\n",
      "wp\t\t: yes\n",
      "flags\t\t: fpu vme de pse tsc msr pae mce cx8 apic sep mtrr pge mca cmov pat pse36 clflush dts acpi mmx fxsr sse sse2 ss ht tm pbe syscall nx pdpe1gb rdtscp lm constant_tsc art arch_perfmon pebs bts rep_good nopl xtopology nonstop_tsc cpuid aperfmperf pni pclmulqdq dtes64 monitor ds_cpl vmx est tm2 ssse3 sdbg fma cx16 xtpr pdcm pcid sse4_1 sse4_2 x2apic movbe popcnt tsc_deadline_timer aes xsave avx f16c rdrand lahf_lm abm 3dnowprefetch cpuid_fault epb invpcid_single pti ssbd ibrs ibpb stibp tpr_shadow vnmi flexpriority ept vpid ept_ad fsgsbase tsc_adjust bmi1 avx2 smep bmi2 erms invpcid mpx rdseed adx smap clflushopt intel_pt xsaveopt xsavec xgetbv1 xsaves dtherm ida arat pln pts hwp hwp_notify hwp_act_window hwp_epp md_clear flush_l1d\n",
      "vmx flags\t: vnmi preemption_timer invvpid ept_x_only ept_ad ept_1gb flexpriority tsc_offset vtpr mtf vapic ept vpid unrestricted_guest ple pml ept_mode_based_exec\n",
      "bugs\t\t: cpu_meltdown spectre_v1 spectre_v2 spec_store_bypass l1tf mds swapgs itlb_multihit srbds\n",
      "bogomips\t: 3999.93\n",
      "clflush size\t: 64\n",
      "cache_alignment\t: 64\n",
      "address sizes\t: 39 bits physical, 48 bits virtual\n",
      "power management:\n",
      "\n",
      "processor\t: 3\n",
      "vendor_id\t: GenuineIntel\n",
      "cpu family\t: 6\n",
      "model\t\t: 142\n",
      "model name\t: Intel(R) Core(TM) i7-8550U CPU @ 1.80GHz\n",
      "stepping\t: 10\n",
      "microcode\t: 0xe0\n",
      "cpu MHz\t\t: 2658.362\n",
      "cache size\t: 8192 KB\n",
      "physical id\t: 0\n",
      "siblings\t: 8\n",
      "core id\t\t: 3\n",
      "cpu cores\t: 4\n",
      "apicid\t\t: 6\n",
      "initial apicid\t: 6\n",
      "fpu\t\t: yes\n",
      "fpu_exception\t: yes\n",
      "cpuid level\t: 22\n",
      "wp\t\t: yes\n",
      "flags\t\t: fpu vme de pse tsc msr pae mce cx8 apic sep mtrr pge mca cmov pat pse36 clflush dts acpi mmx fxsr sse sse2 ss ht tm pbe syscall nx pdpe1gb rdtscp lm constant_tsc art arch_perfmon pebs bts rep_good nopl xtopology nonstop_tsc cpuid aperfmperf pni pclmulqdq dtes64 monitor ds_cpl vmx est tm2 ssse3 sdbg fma cx16 xtpr pdcm pcid sse4_1 sse4_2 x2apic movbe popcnt tsc_deadline_timer aes xsave avx f16c rdrand lahf_lm abm 3dnowprefetch cpuid_fault epb invpcid_single pti ssbd ibrs ibpb stibp tpr_shadow vnmi flexpriority ept vpid ept_ad fsgsbase tsc_adjust bmi1 avx2 smep bmi2 erms invpcid mpx rdseed adx smap clflushopt intel_pt xsaveopt xsavec xgetbv1 xsaves dtherm ida arat pln pts hwp hwp_notify hwp_act_window hwp_epp md_clear flush_l1d\n",
      "vmx flags\t: vnmi preemption_timer invvpid ept_x_only ept_ad ept_1gb flexpriority tsc_offset vtpr mtf vapic ept vpid unrestricted_guest ple pml ept_mode_based_exec\n",
      "bugs\t\t: cpu_meltdown spectre_v1 spectre_v2 spec_store_bypass l1tf mds swapgs itlb_multihit srbds\n",
      "bogomips\t: 3999.93\n",
      "clflush size\t: 64\n",
      "cache_alignment\t: 64\n",
      "address sizes\t: 39 bits physical, 48 bits virtual\n",
      "power management:\n",
      "\n",
      "processor\t: 4\n",
      "vendor_id\t: GenuineIntel\n",
      "cpu family\t: 6\n",
      "model\t\t: 142\n",
      "model name\t: Intel(R) Core(TM) i7-8550U CPU @ 1.80GHz\n",
      "stepping\t: 10\n",
      "microcode\t: 0xe0\n",
      "cpu MHz\t\t: 2763.685\n",
      "cache size\t: 8192 KB\n",
      "physical id\t: 0\n",
      "siblings\t: 8\n",
      "core id\t\t: 0\n",
      "cpu cores\t: 4\n",
      "apicid\t\t: 1\n",
      "initial apicid\t: 1\n",
      "fpu\t\t: yes\n",
      "fpu_exception\t: yes\n",
      "cpuid level\t: 22\n",
      "wp\t\t: yes\n",
      "flags\t\t: fpu vme de pse tsc msr pae mce cx8 apic sep mtrr pge mca cmov pat pse36 clflush dts acpi mmx fxsr sse sse2 ss ht tm pbe syscall nx pdpe1gb rdtscp lm constant_tsc art arch_perfmon pebs bts rep_good nopl xtopology nonstop_tsc cpuid aperfmperf pni pclmulqdq dtes64 monitor ds_cpl vmx est tm2 ssse3 sdbg fma cx16 xtpr pdcm pcid sse4_1 sse4_2 x2apic movbe popcnt tsc_deadline_timer aes xsave avx f16c rdrand lahf_lm abm 3dnowprefetch cpuid_fault epb invpcid_single pti ssbd ibrs ibpb stibp tpr_shadow vnmi flexpriority ept vpid ept_ad fsgsbase tsc_adjust bmi1 avx2 smep bmi2 erms invpcid mpx rdseed adx smap clflushopt intel_pt xsaveopt xsavec xgetbv1 xsaves dtherm ida arat pln pts hwp hwp_notify hwp_act_window hwp_epp md_clear flush_l1d\n",
      "vmx flags\t: vnmi preemption_timer invvpid ept_x_only ept_ad ept_1gb flexpriority tsc_offset vtpr mtf vapic ept vpid unrestricted_guest ple pml ept_mode_based_exec\n",
      "bugs\t\t: cpu_meltdown spectre_v1 spectre_v2 spec_store_bypass l1tf mds swapgs itlb_multihit srbds\n",
      "bogomips\t: 3999.93\n",
      "clflush size\t: 64\n",
      "cache_alignment\t: 64\n",
      "address sizes\t: 39 bits physical, 48 bits virtual\n",
      "power management:\n",
      "\n",
      "processor\t: 5\n",
      "vendor_id\t: GenuineIntel\n",
      "cpu family\t: 6\n",
      "model\t\t: 142\n",
      "model name\t: Intel(R) Core(TM) i7-8550U CPU @ 1.80GHz\n",
      "stepping\t: 10\n",
      "microcode\t: 0xe0\n",
      "cpu MHz\t\t: 2741.523\n",
      "cache size\t: 8192 KB\n",
      "physical id\t: 0\n",
      "siblings\t: 8\n",
      "core id\t\t: 1\n",
      "cpu cores\t: 4\n",
      "apicid\t\t: 3\n",
      "initial apicid\t: 3\n",
      "fpu\t\t: yes\n",
      "fpu_exception\t: yes\n",
      "cpuid level\t: 22\n",
      "wp\t\t: yes\n",
      "flags\t\t: fpu vme de pse tsc msr pae mce cx8 apic sep mtrr pge mca cmov pat pse36 clflush dts acpi mmx fxsr sse sse2 ss ht tm pbe syscall nx pdpe1gb rdtscp lm constant_tsc art arch_perfmon pebs bts rep_good nopl xtopology nonstop_tsc cpuid aperfmperf pni pclmulqdq dtes64 monitor ds_cpl vmx est tm2 ssse3 sdbg fma cx16 xtpr pdcm pcid sse4_1 sse4_2 x2apic movbe popcnt tsc_deadline_timer aes xsave avx f16c rdrand lahf_lm abm 3dnowprefetch cpuid_fault epb invpcid_single pti ssbd ibrs ibpb stibp tpr_shadow vnmi flexpriority ept vpid ept_ad fsgsbase tsc_adjust bmi1 avx2 smep bmi2 erms invpcid mpx rdseed adx smap clflushopt intel_pt xsaveopt xsavec xgetbv1 xsaves dtherm ida arat pln pts hwp hwp_notify hwp_act_window hwp_epp md_clear flush_l1d\n",
      "vmx flags\t: vnmi preemption_timer invvpid ept_x_only ept_ad ept_1gb flexpriority tsc_offset vtpr mtf vapic ept vpid unrestricted_guest ple pml ept_mode_based_exec\n",
      "bugs\t\t: cpu_meltdown spectre_v1 spectre_v2 spec_store_bypass l1tf mds swapgs itlb_multihit srbds\n",
      "bogomips\t: 3999.93\n",
      "clflush size\t: 64\n",
      "cache_alignment\t: 64\n",
      "address sizes\t: 39 bits physical, 48 bits virtual\n",
      "power management:\n",
      "\n",
      "processor\t: 6\n",
      "vendor_id\t: GenuineIntel\n",
      "cpu family\t: 6\n",
      "model\t\t: 142\n",
      "model name\t: Intel(R) Core(TM) i7-8550U CPU @ 1.80GHz\n",
      "stepping\t: 10\n",
      "microcode\t: 0xe0\n",
      "cpu MHz\t\t: 2696.127\n",
      "cache size\t: 8192 KB\n",
      "physical id\t: 0\n",
      "siblings\t: 8\n",
      "core id\t\t: 2\n",
      "cpu cores\t: 4\n",
      "apicid\t\t: 5\n",
      "initial apicid\t: 5\n",
      "fpu\t\t: yes\n",
      "fpu_exception\t: yes\n",
      "cpuid level\t: 22\n",
      "wp\t\t: yes\n",
      "flags\t\t: fpu vme de pse tsc msr pae mce cx8 apic sep mtrr pge mca cmov pat pse36 clflush dts acpi mmx fxsr sse sse2 ss ht tm pbe syscall nx pdpe1gb rdtscp lm constant_tsc art arch_perfmon pebs bts rep_good nopl xtopology nonstop_tsc cpuid aperfmperf pni pclmulqdq dtes64 monitor ds_cpl vmx est tm2 ssse3 sdbg fma cx16 xtpr pdcm pcid sse4_1 sse4_2 x2apic movbe popcnt tsc_deadline_timer aes xsave avx f16c rdrand lahf_lm abm 3dnowprefetch cpuid_fault epb invpcid_single pti ssbd ibrs ibpb stibp tpr_shadow vnmi flexpriority ept vpid ept_ad fsgsbase tsc_adjust bmi1 avx2 smep bmi2 erms invpcid mpx rdseed adx smap clflushopt intel_pt xsaveopt xsavec xgetbv1 xsaves dtherm ida arat pln pts hwp hwp_notify hwp_act_window hwp_epp md_clear flush_l1d\n",
      "vmx flags\t: vnmi preemption_timer invvpid ept_x_only ept_ad ept_1gb flexpriority tsc_offset vtpr mtf vapic ept vpid unrestricted_guest ple pml ept_mode_based_exec\n",
      "bugs\t\t: cpu_meltdown spectre_v1 spectre_v2 spec_store_bypass l1tf mds swapgs itlb_multihit srbds\n",
      "bogomips\t: 3999.93\n",
      "clflush size\t: 64\n",
      "cache_alignment\t: 64\n",
      "address sizes\t: 39 bits physical, 48 bits virtual\n",
      "power management:\n",
      "\n",
      "processor\t: 7\n",
      "vendor_id\t: GenuineIntel\n",
      "cpu family\t: 6\n",
      "model\t\t: 142\n",
      "model name\t: Intel(R) Core(TM) i7-8550U CPU @ 1.80GHz\n",
      "stepping\t: 10\n",
      "microcode\t: 0xe0\n",
      "cpu MHz\t\t: 2682.904\n",
      "cache size\t: 8192 KB\n",
      "physical id\t: 0\n",
      "siblings\t: 8\n",
      "core id\t\t: 3\n",
      "cpu cores\t: 4\n",
      "apicid\t\t: 7\n",
      "initial apicid\t: 7\n",
      "fpu\t\t: yes\n",
      "fpu_exception\t: yes\n",
      "cpuid level\t: 22\n",
      "wp\t\t: yes\n",
      "flags\t\t: fpu vme de pse tsc msr pae mce cx8 apic sep mtrr pge mca cmov pat pse36 clflush dts acpi mmx fxsr sse sse2 ss ht tm pbe syscall nx pdpe1gb rdtscp lm constant_tsc art arch_perfmon pebs bts rep_good nopl xtopology nonstop_tsc cpuid aperfmperf pni pclmulqdq dtes64 monitor ds_cpl vmx est tm2 ssse3 sdbg fma cx16 xtpr pdcm pcid sse4_1 sse4_2 x2apic movbe popcnt tsc_deadline_timer aes xsave avx f16c rdrand lahf_lm abm 3dnowprefetch cpuid_fault epb invpcid_single pti ssbd ibrs ibpb stibp tpr_shadow vnmi flexpriority ept vpid ept_ad fsgsbase tsc_adjust bmi1 avx2 smep bmi2 erms invpcid mpx rdseed adx smap clflushopt intel_pt xsaveopt xsavec xgetbv1 xsaves dtherm ida arat pln pts hwp hwp_notify hwp_act_window hwp_epp md_clear flush_l1d\n",
      "vmx flags\t: vnmi preemption_timer invvpid ept_x_only ept_ad ept_1gb flexpriority tsc_offset vtpr mtf vapic ept vpid unrestricted_guest ple pml ept_mode_based_exec\n",
      "bugs\t\t: cpu_meltdown spectre_v1 spectre_v2 spec_store_bypass l1tf mds swapgs itlb_multihit srbds\n",
      "bogomips\t: 3999.93\n",
      "clflush size\t: 64\n",
      "cache_alignment\t: 64\n",
      "address sizes\t: 39 bits physical, 48 bits virtual\n",
      "power management:\n",
      "\n",
      "\n"
     ]
    }
   ],
   "source": [
    "with open(\"/proc/cpuinfo\", \"r\") as f:\n",
    "    lines = f.readlines()\n",
    "    print(\"\".join(lines))"
   ]
  },
  {
   "cell_type": "markdown",
   "metadata": {},
   "source": [
    "## os"
   ]
  },
  {
   "cell_type": "code",
   "execution_count": 112,
   "metadata": {},
   "outputs": [
    {
     "name": "stdout",
     "output_type": "stream",
     "text": [
      "All under /boot:\n",
      "initramfs-5.8-x86_64-fallback.img\n",
      "efi\n",
      "linux59-x86_64.kver\n",
      "grub\n",
      "vmlinuz-5.9-x86_64\n",
      "linux58-x86_64.kver\n",
      "initramfs-5.8-x86_64.img\n",
      "amd-ucode.img\n",
      "initramfs-5.7-x86_64-fallback.img\n",
      "initramfs-5.9-x86_64.img\n",
      "vmlinuz-5.8-x86_64\n",
      "initramfs-5.9-x86_64-fallback.img\n",
      "memtest86+\n",
      "initramfs-5.7-x86_64.img\n",
      "linux57-x86_64.kver\n",
      "vmlinuz-5.7-x86_64\n"
     ]
    }
   ],
   "source": [
    "import os\n",
    "\n",
    "dir_entries = os.listdir(\"/boot\")\n",
    "print(\"All under /boot:\")\n",
    "print(\"\\n\".join(dir_entries))\n",
    "\n",
    "# check if path points to file\n",
    "# file = os.path.isfile(\"/home/user/.bashrc\")\n",
    "\n",
    "# check if path points to dir\n",
    "# dir = os.path.isdir(\"/home/user/.bashrc\")\n",
    "\n",
    "# other operations:\n",
    "#  os.mkdir(\"/tmp/test\")\n",
    "#  os.rename(\"/tmp/test\", \"/tmp/experiment\")\n",
    "#  os.rmdir(\"/tmp/experiment\")"
   ]
  },
  {
   "cell_type": "markdown",
   "metadata": {},
   "source": [
    "## magic methods"
   ]
  },
  {
   "cell_type": "code",
   "execution_count": 122,
   "metadata": {},
   "outputs": [
    {
     "name": "stdout",
     "output_type": "stream",
     "text": [
      "create\n",
      "Demo object\n",
      "33\n",
      "True\n",
      "destroy\n"
     ]
    }
   ],
   "source": [
    "class Demo(object):\n",
    "    def __init__(self):\n",
    "        print(\"create\")\n",
    "    def __str__(self):\n",
    "        return \"Demo object\"\n",
    "    def __int__(self):\n",
    "        return 33\n",
    "    def __bool__(self):\n",
    "        return True\n",
    "    def __del__(self):\n",
    "        print(\"destroy\")\n",
    "\n",
    "d = Demo()\n",
    "print(d)\n",
    "print(int(d))\n",
    "print(bool(d))\n",
    "del d"
   ]
  },
  {
   "cell_type": "markdown",
   "metadata": {},
   "source": [
    "## inheritance"
   ]
  },
  {
   "cell_type": "code",
   "execution_count": 13,
   "metadata": {},
   "outputs": [
    {
     "name": "stdout",
     "output_type": "stream",
     "text": [
      "HELLO\n",
      "this morning was cold, wasn't it?\n",
      "GODBYE\n"
     ]
    }
   ],
   "source": [
    "def override(f):\n",
    "    \"\"\" just a marker decorator \"\"\"\n",
    "    return f\n",
    "\n",
    "class Speaker(object):\n",
    "    def __init__(self):\n",
    "        pass\n",
    "    \n",
    "    def hello(self):\n",
    "        print(\"hello\")\n",
    "        \n",
    "    def small_talk(self):\n",
    "        print(\"this morning was cold, wasn't it?\")\n",
    "        \n",
    "    def bye(self):\n",
    "        print(\"goodbye\")\n",
    "        \n",
    "class LouderSpeaker(Speaker):\n",
    "    @override\n",
    "    def __init__(self):\n",
    "        super(LouderSpeaker, self).__init__()\n",
    "        \n",
    "    @override\n",
    "    def hello(self):\n",
    "        print(\"HELLO\")\n",
    "        \n",
    "    @override\n",
    "    def bye(self):\n",
    "        print(\"GODBYE\")  \n",
    "        \n",
    " \n",
    "\n",
    "l = LouderSpeaker()\n",
    "l.hello()\n",
    "l.small_talk()\n",
    "l.bye()"
   ]
  },
  {
   "cell_type": "markdown",
   "metadata": {},
   "source": [
    "## decorators"
   ]
  },
  {
   "cell_type": "code",
   "execution_count": 1,
   "metadata": {},
   "outputs": [
    {
     "name": "stdout",
     "output_type": "stream",
     "text": [
      "\u001b[31m\n",
      "hello\n",
      "\u001b[34m\n",
      "goodbye\n"
     ]
    }
   ],
   "source": [
    "def red(f):\n",
    "    def wrapper(*args, **kwargs):\n",
    "        print('\\033[31m')\n",
    "        return f(*args, **kwargs)\n",
    "    return wrapper\n",
    " \n",
    "def blue(f):\n",
    "    def wrapper(*args, **kwargs):\n",
    "        print('\\033[34m')\n",
    "        return f(*args, **kwargs)\n",
    "    return wrapper\n",
    "\n",
    "class Speaker(object):\n",
    "    @red\n",
    "    def hello(self):\n",
    "        print(\"hello\")\n",
    "        \n",
    "    @blue\n",
    "    def bye(self):\n",
    "        print(\"goodbye\")\n",
    "\n",
    "s = Speaker()\n",
    "s.hello()\n",
    "s.bye()"
   ]
  },
  {
   "cell_type": "markdown",
   "metadata": {},
   "source": [
    "## requests"
   ]
  },
  {
   "cell_type": "code",
   "execution_count": 29,
   "metadata": {},
   "outputs": [
    {
     "name": "stdout",
     "output_type": "stream",
     "text": [
      "{\"table\":\"A\",\"currency\":\"dolar amerykański\",\"code\":\"USD\",\"rates\":[{\"no\":\"232/A/NBP/2020\",\"effectiveDate\":\"2020-11-27\",\"mid\":3.7614}]}\n"
     ]
    }
   ],
   "source": [
    "import requests\n",
    "\n",
    "last_usd_price_url = \"http://api.nbp.pl/api/exchangerates/rates/A/USD/last/1\" # table 'A' = average price\n",
    "headers = {'Accept': 'application/json'} # also available: xml\n",
    "response = requests.get(last_usd_price_url, headers=headers)\n",
    "\n",
    "print(response.text)"
   ]
  },
  {
   "cell_type": "markdown",
   "metadata": {},
   "source": [
    "## Input in action"
   ]
  },
  {
   "cell_type": "code",
   "execution_count": 5,
   "metadata": {},
   "outputs": [
    {
     "name": "stdout",
     "output_type": "stream",
     "text": [
      "Say something: sialala\n",
      "You inputted:  sialala\n"
     ]
    }
   ],
   "source": [
    "x = input('Say something: ')\n",
    "print('You inputted: ',x )"
   ]
  },
  {
   "cell_type": "code",
   "execution_count": null,
   "metadata": {},
   "outputs": [],
   "source": []
  }
 ],
 "metadata": {
  "kernelspec": {
   "display_name": "Python 3",
   "language": "python",
   "name": "python3"
  },
  "language_info": {
   "codemirror_mode": {
    "name": "ipython",
    "version": 3
   },
   "file_extension": ".py",
   "mimetype": "text/x-python",
   "name": "python",
   "nbconvert_exporter": "python",
   "pygments_lexer": "ipython3",
   "version": "3.8.6"
  }
 },
 "nbformat": 4,
 "nbformat_minor": 4
}
